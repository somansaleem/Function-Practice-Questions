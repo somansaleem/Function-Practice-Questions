{
 "cells": [
  {
   "cell_type": "markdown",
   "id": "730cc4d1",
   "metadata": {},
   "source": [
    "# Simple Function"
   ]
  },
  {
   "cell_type": "code",
   "execution_count": 5,
   "id": "65682768",
   "metadata": {},
   "outputs": [
    {
     "name": "stdout",
     "output_type": "stream",
     "text": [
      "Hello, Soman! The current time is 2024-11-28 12:38:43.971478.\n"
     ]
    }
   ],
   "source": [
    "import datetime\n",
    "def greet_with_time(name):\n",
    "    current_time=datetime.datetime.now()\n",
    "    print(f\"Hello, {name}! The current time is {current_time}.\")\n",
    "greet_with_time (\"Soman\")\n",
    "\n",
    "\n",
    "    "
   ]
  },
  {
   "cell_type": "markdown",
   "id": "c6d81397",
   "metadata": {},
   "source": [
    "# Average Function "
   ]
  },
  {
   "cell_type": "code",
   "execution_count": 18,
   "id": "6a8b7c79",
   "metadata": {},
   "outputs": [
    {
     "name": "stdout",
     "output_type": "stream",
     "text": [
      "The average of the given three numbers is 2.0\n"
     ]
    }
   ],
   "source": [
    "def calculate_average(num1, num2, num3):\n",
    "    average = (num1 + num2 + num3) / 3\n",
    "    print(f\"The average of the given three numbers is {average}\")\n",
    "calculate_average(1,2,3)"
   ]
  },
  {
   "cell_type": "markdown",
   "id": "ea7e38c0",
   "metadata": {},
   "source": [
    "# Discount Function"
   ]
  },
  {
   "cell_type": "code",
   "execution_count": 16,
   "id": "b95ca58e",
   "metadata": {},
   "outputs": [
    {
     "name": "stdout",
     "output_type": "stream",
     "text": [
      "The final price after 30.0 percent discount is 270.0\n"
     ]
    }
   ],
   "source": [
    "def calculate_discount(price, discount_percentage=10):\n",
    "    discount_amount = (discount_percentage / 100) * price\n",
    "    final_price = price - discount_amount\n",
    "    print(f\"The final price after {discount_amount} percent discount is {final_price}\")\n",
    "calculate_discount(300)"
   ]
  },
  {
   "cell_type": "markdown",
   "id": "ce1cc19d",
   "metadata": {},
   "source": [
    "# print info function"
   ]
  },
  {
   "cell_type": "code",
   "execution_count": 24,
   "id": "97ee02cc",
   "metadata": {},
   "outputs": [
    {
     "name": "stdout",
     "output_type": "stream",
     "text": [
      "Name: Soman\n",
      "Age: 20\n",
      "City: Lahore\n"
     ]
    }
   ],
   "source": [
    "def print_info(name, age, city):\n",
    "    print(f\"Name: {name.title()}\")\n",
    "    print(f\"Age: {age}\")\n",
    "    print(f\"City: {city.title()}\")\n",
    "print_info(\"soman\",20,\"lahore\")"
   ]
  },
  {
   "cell_type": "markdown",
   "id": "1f42ee4e-b55b-4978-a79d-ed6ff3a454b0",
   "metadata": {},
   "source": [
    "# Max Function"
   ]
  },
  {
   "cell_type": "code",
   "execution_count": 28,
   "id": "71be1148-cde3-4cdd-a495-155078cf7731",
   "metadata": {},
   "outputs": [
    {
     "name": "stdout",
     "output_type": "stream",
     "text": [
      "777777\n"
     ]
    }
   ],
   "source": [
    "def find_max(*args):\n",
    "    return max(args)\n",
    "print(find_max(3, 5, 1, 8, 2,9,0,8,88,9999,777777,6666,6,7)) \n",
    "\n"
   ]
  },
  {
   "cell_type": "markdown",
   "id": "004ec9c8-b7fc-4356-8d42-8b40a3c929c9",
   "metadata": {},
   "source": [
    "# Factorial Function"
   ]
  },
  {
   "cell_type": "code",
   "execution_count": 40,
   "id": "5ea21e7a-c61d-487a-abf4-738fcfd9fd6a",
   "metadata": {},
   "outputs": [
    {
     "name": "stdout",
     "output_type": "stream",
     "text": [
      "120\n"
     ]
    }
   ],
   "source": [
    "def factorial(n):\n",
    "    return 1 if n == 0 else n * factorial(n - 1)\n",
    "print(factorial(5))  \n"
   ]
  },
  {
   "cell_type": "markdown",
   "id": "ed31086b-f37c-4e30-859e-ca17239fe80e",
   "metadata": {},
   "source": [
    "# Apply Function"
   ]
  },
  {
   "cell_type": "code",
   "execution_count": 44,
   "id": "84a7f448-248f-421a-ab49-672626b7f0e9",
   "metadata": {},
   "outputs": [
    {
     "name": "stdout",
     "output_type": "stream",
     "text": [
      "[2, 3, 4, 5]\n"
     ]
    }
   ],
   "source": [
    "def apply_function(func, numbers):\n",
    "    result = []\n",
    "    for num in numbers:\n",
    "        result.append(func(num))\n",
    "    return result\n",
    "\n",
    "def add_one(x):\n",
    "    return x + 1\n",
    "\n",
    "numbers = [1, 2, 3, 4]\n",
    "result = apply_function(add_one, numbers)\n",
    "print(result)  \n"
   ]
  },
  {
   "cell_type": "markdown",
   "id": "b98c0bf7-3940-4562-86ff-52013aa4f087",
   "metadata": {},
   "source": [
    "# Lambda Function"
   ]
  },
  {
   "cell_type": "code",
   "execution_count": 52,
   "id": "7032de0b-281b-4b82-bada-21256e413fae",
   "metadata": {},
   "outputs": [
    {
     "name": "stdout",
     "output_type": "stream",
     "text": [
      "81\n"
     ]
    }
   ],
   "source": [
    "print((lambda x: x ** 2)(9))"
   ]
  },
  {
   "cell_type": "markdown",
   "id": "b0a3760f-f61b-4088-81dc-354f2cc40c0b",
   "metadata": {},
   "source": [
    "# Apply Operator Function"
   ]
  },
  {
   "cell_type": "code",
   "execution_count": 56,
   "id": "6de2dc7e-d5cc-46fe-8c12-9dec8ca14c3d",
   "metadata": {},
   "outputs": [
    {
     "name": "stdout",
     "output_type": "stream",
     "text": [
      "Result after applying the operation: [1, 4, 9, 16, 5776, 3136, 1849]\n"
     ]
    }
   ],
   "source": [
    "def apply_operation(func, numbers):\n",
    "    result = []\n",
    "    for num in numbers:\n",
    "        result.append(func(num))\n",
    "    return result\n",
    "def square(x):\n",
    "    return x ** 2\n",
    "\n",
    "numbers = [1, 2, 3, 4,76,56,43]\n",
    "result = apply_operation(square, numbers)\n",
    "print(\"Result after applying the operation: {}\".format(result))\n"
   ]
  },
  {
   "cell_type": "markdown",
   "id": "3ca2853b-4667-49db-9758-0c7312214944",
   "metadata": {},
   "source": [
    "# Function Decorator"
   ]
  },
  {
   "cell_type": "code",
   "execution_count": 74,
   "id": "cea4d6f4-f36b-42ad-ac34-2cae03323955",
   "metadata": {},
   "outputs": [
    {
     "name": "stdout",
     "output_type": "stream",
     "text": [
      "example_function: 0.059257s\n"
     ]
    },
    {
     "data": {
      "text/plain": [
       "499999500000"
      ]
     },
     "execution_count": 74,
     "metadata": {},
     "output_type": "execute_result"
    }
   ],
   "source": [
    "import time\n",
    "\n",
    "def measure_execution_time(func):\n",
    "    def wrapper():\n",
    "        start = time.time()\n",
    "        result = func()\n",
    "        print(f\"{func.__name__}: {time.time() - start:.6f}s\")\n",
    "        return result\n",
    "    return wrapper\n",
    "\n",
    "@measure_execution_time\n",
    "def example_function():\n",
    "    return sum(range(1, 1000000))\n",
    "\n",
    "example_function()\n"
   ]
  },
  {
   "cell_type": "code",
   "execution_count": null,
   "id": "a8908881-6dae-465a-b9d5-ee3d611e8417",
   "metadata": {},
   "outputs": [],
   "source": []
  }
 ],
 "metadata": {
  "kernelspec": {
   "display_name": "Python 3 (ipykernel)",
   "language": "python",
   "name": "python3"
  },
  "language_info": {
   "codemirror_mode": {
    "name": "ipython",
    "version": 3
   },
   "file_extension": ".py",
   "mimetype": "text/x-python",
   "name": "python",
   "nbconvert_exporter": "python",
   "pygments_lexer": "ipython3",
   "version": "3.12.4"
  }
 },
 "nbformat": 4,
 "nbformat_minor": 5
}
